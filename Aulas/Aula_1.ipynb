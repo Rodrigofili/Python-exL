{
 "cells": [
  {
   "attachments": {},
   "cell_type": "markdown",
   "metadata": {},
   "source": [
    "Nessa aula introdutória foi mostrado os tipo de variáveis (int, float, bool,str)\n",
    "\n",
    "como usar o format --> saldo = 2300.50000\n",
    "\n",
    "print(f'O seu saldo atual é {saldo:.2f}')\n",
    "\n",
    "Desafios:\n",
    "\n",
    "1. Faça um programa que peça para o usuário inserir dois números, realize a multiplicação entre eles e mostre na tela o resultado.\n",
    "2. Faça um programa que peça para o usuário inserir um número e mostre na tela o antecessor e sucessor do número inserido.\n",
    "3. Faça um programa que receba nome, quantidade de horas trabalhadas, valor por hora trabalhada e calcule o salário desse funcionário. O salário deve ser exibido na tela indicando o quanto aquele funcionário receberá."
   ]
  },
  {
   "cell_type": "code",
   "execution_count": 5,
   "metadata": {},
   "outputs": [
    {
     "name": "stdout",
     "output_type": "stream",
     "text": [
      "O resultado da sua multiplicação 2X7 = 14\n"
     ]
    }
   ],
   "source": [
    " a = int(input(\"Digite um numero:\"))\n",
    " b = int(input(\"Digite um numero:\"))\n",
    " \n",
    " mult = a * b\n",
    " \n",
    " print(f\"O resultado da sua multiplicação {a}X{b} = {mult}\")"
   ]
  },
  {
   "cell_type": "code",
   "execution_count": 6,
   "metadata": {},
   "outputs": [
    {
     "name": "stdout",
     "output_type": "stream",
     "text": [
      "O antecessor do número 8 é 7\n"
     ]
    }
   ],
   "source": [
    "\n",
    " c = int(input(\"Digite um numero:\"))\n",
    " \n",
    " print(f\"O antecessor do número {c} é {c-1}\")\n",
    " "
   ]
  },
  {
   "cell_type": "code",
   "execution_count": 7,
   "metadata": {},
   "outputs": [
    {
     "name": "stdout",
     "output_type": "stream",
     "text": [
      "O nome do usuário é rodrigo e trabalha 7.0 horas por dia e recebe 38.50 \n"
     ]
    }
   ],
   "source": [
    "Nome = str(input(\"Digite o seu nome\"))\n",
    "salario = 0\n",
    "horas = float(input(\"Digite as horas trabalhadas\"))\n",
    "vpht = float(input(\"Digite o valor ganho por hora trabalhada\"))\n",
    "\n",
    "salario = horas * vpht\n",
    "\n",
    "print(f\"O nome do usuário é {Nome} e trabalha {horas} horas por dia e recebe {salario:.2f} \")"
   ]
  }
 ],
 "metadata": {
  "kernelspec": {
   "display_name": "Python 3",
   "language": "python",
   "name": "python3"
  },
  "language_info": {
   "codemirror_mode": {
    "name": "ipython",
    "version": 3
   },
   "file_extension": ".py",
   "mimetype": "text/x-python",
   "name": "python",
   "nbconvert_exporter": "python",
   "pygments_lexer": "ipython3",
   "version": "3.11.2 (tags/v3.11.2:878ead1, Feb  7 2023, 16:38:35) [MSC v.1934 64 bit (AMD64)]"
  },
  "orig_nbformat": 4,
  "vscode": {
   "interpreter": {
    "hash": "6fa81080852938d8f5a1a629d539a3c489c8a238a7314e7af8a2e2c28b6f2b60"
   }
  }
 },
 "nbformat": 4,
 "nbformat_minor": 2
}
